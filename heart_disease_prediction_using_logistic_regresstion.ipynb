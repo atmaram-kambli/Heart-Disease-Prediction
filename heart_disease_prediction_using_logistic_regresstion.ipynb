{
 "cells": [
  {
   "cell_type": "markdown",
   "id": "2d870772",
   "metadata": {},
   "source": [
    "# Heart Disease Prediction using Logistic Regression"
   ]
  },
  {
   "cell_type": "code",
   "execution_count": null,
   "id": "285ebacd",
   "metadata": {},
   "outputs": [],
   "source": [
    "# importing necessary libraries\n",
    "import pandas as pd\n",
    "import numpy as np\n",
    "\n",
    "import scipy.optimize as opt\n",
    "import statsmodels.api as sm\n",
    "import pylab as pl\n",
    "from sklearn import preprocessing\n",
    "\n",
    "import matplotlib.pyplot as plt\n",
    "import matplotlib.mlab as mlab\n",
    "%matplotlib inline\n",
    "import seaborn as sns\n"
   ]
  },
  {
   "cell_type": "markdown",
   "id": "5bec153d",
   "metadata": {},
   "source": [
    "### Data Loading"
   ]
  },
  {
   "cell_type": "code",
   "execution_count": null,
   "id": "4ac5dc5d",
   "metadata": {},
   "outputs": [],
   "source": [
    "# dataset\n",
    "disease_df = pd.read_csv('framingham.csv')"
   ]
  },
  {
   "cell_type": "code",
   "execution_count": null,
   "id": "95de8320",
   "metadata": {},
   "outputs": [],
   "source": [
    "disease_df.head(5)"
   ]
  },
  {
   "cell_type": "markdown",
   "id": "246bcfca",
   "metadata": {},
   "source": [
    "### Data Preparation"
   ]
  },
  {
   "cell_type": "code",
   "execution_count": null,
   "id": "2aafebd2",
   "metadata": {},
   "outputs": [],
   "source": [
    "# data cleaning and data preparation\n",
    "disease_df.drop(['education'], inplace=True, axis=1)\n",
    "disease_df.rename(columns={'male':'sex_male'}, inplace=True)"
   ]
  },
  {
   "cell_type": "code",
   "execution_count": null,
   "id": "6e6ea4a6",
   "metadata": {},
   "outputs": [],
   "source": [
    "disease_df.dropna(axis = 0, inplace = True)"
   ]
  },
  {
   "cell_type": "code",
   "execution_count": null,
   "id": "5cae1c06",
   "metadata": {},
   "outputs": [],
   "source": [
    "disease_df.count()"
   ]
  },
  {
   "cell_type": "markdown",
   "id": "19ccdd84",
   "metadata": {},
   "source": [
    "### Splitting the Dataset into Test and Train Sets"
   ]
  },
  {
   "cell_type": "code",
   "execution_count": null,
   "id": "7ac6c914",
   "metadata": {},
   "outputs": [],
   "source": [
    "# Data Normalization\n",
    "x = np.asarray(disease_df[['age', 'sex_male', 'cigsPerDay','totChol', 'sysBP', 'glucose']])\n",
    "y = np.asarray(disease_df['TenYearCHD'])\n",
    "\n",
    "x = preprocessing.StandardScaler().fit(x).transform(x)"
   ]
  },
  {
   "cell_type": "code",
   "execution_count": null,
   "id": "aa531a57",
   "metadata": {},
   "outputs": [],
   "source": [
    "# splitting datasets to Test and Train sets\n",
    "from sklearn.model_selection import train_test_split\n",
    "x_train, x_test, y_train, y_test = train_test_split(x, y, test_size= 0.3, random_state = 4)\n",
    "\n",
    "\n",
    "print ('Train set:', x_train.shape,  y_train.shape)\n",
    "print ('Test set:', x_test.shape,  y_test.shape)"
   ]
  },
  {
   "cell_type": "markdown",
   "id": "82707b60",
   "metadata": {},
   "source": [
    "### Exploratory Data Analysis"
   ]
  },
  {
   "cell_type": "code",
   "execution_count": null,
   "id": "fbdb4646",
   "metadata": {},
   "outputs": [],
   "source": [
    "# Couting no. of patient affected with CHD\n",
    "sns.countplot(x='TenYearCHD', data=disease_df, palette=[\"#32cd32\", \"#FF0000\"])\n",
    "plt.title('Count of Patient affeted with CHD')"
   ]
  },
  {
   "cell_type": "markdown",
   "id": "fd7bf0c1",
   "metadata": {},
   "source": [
    "### Using Logistic Regression Model for Heart Disease Prediction"
   ]
  },
  {
   "cell_type": "code",
   "execution_count": null,
   "id": "9a9b1e1a",
   "metadata": {},
   "outputs": [],
   "source": [
    "from sklearn.linear_model import LogisticRegression\n",
    "logReg = LogisticRegression()\n",
    "logReg.fit(x_train, y_train)\n",
    "y_pred = logReg.predict(x_test)"
   ]
  },
  {
   "cell_type": "markdown",
   "id": "158b9088",
   "metadata": {},
   "source": [
    "### Model Evaluation"
   ]
  },
  {
   "cell_type": "code",
   "execution_count": null,
   "id": "b7c55b8d",
   "metadata": {},
   "outputs": [],
   "source": [
    "from sklearn.metrics import accuracy_score\n",
    "print(\"The accuracy score of the model is: \", accuracy_score(y_test, y_pred))"
   ]
  },
  {
   "cell_type": "markdown",
   "id": "2fd002f6",
   "metadata": {},
   "source": [
    "#### Confusion Matrix"
   ]
  },
  {
   "cell_type": "code",
   "execution_count": null,
   "id": "8564bd6e",
   "metadata": {},
   "outputs": [],
   "source": [
    "from sklearn.metrics import confusion_matrix, classification_report\n",
    "cm = confusion_matrix(y_test, y_pred)\n",
    "\n",
    "conf_mat = pd.DataFrame(data = cm, index=['Actual:0','Actual:1'], columns=['Predicted:0','Predicted:1'])\n",
    "\n",
    "sns.heatmap(conf_mat, annot=True, fmt='d', cmap='Greens')"
   ]
  },
  {
   "cell_type": "code",
   "execution_count": null,
   "id": "34a6e791",
   "metadata": {},
   "outputs": [],
   "source": [
    "print('The details for confusion matrix is =')\n",
    "print (classification_report(y_test, y_pred))"
   ]
  },
  {
   "cell_type": "code",
   "execution_count": null,
   "id": "10ebd047",
   "metadata": {},
   "outputs": [],
   "source": [
    "# Thank You"
   ]
  }
 ],
 "metadata": {
  "kernelspec": {
   "display_name": "Python 3 (ipykernel)",
   "language": "python",
   "name": "python3"
  },
  "language_info": {
   "codemirror_mode": {
    "name": "ipython",
    "version": 3
   },
   "file_extension": ".py",
   "mimetype": "text/x-python",
   "name": "python",
   "nbconvert_exporter": "python",
   "pygments_lexer": "ipython3",
   "version": "3.11.4"
  }
 },
 "nbformat": 4,
 "nbformat_minor": 5
}
